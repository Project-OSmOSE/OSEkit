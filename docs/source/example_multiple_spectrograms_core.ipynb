{
 "cells": [
  {
   "cell_type": "code",
   "execution_count": null,
   "id": "dc7ebca70b3b5da",
   "metadata": {
    "tags": [
     "remove-cell"
    ]
   },
   "outputs": [],
   "source": [
    "# Executing this cell will disable all TQDM outputs in stdout.\n",
    "import os\n",
    "\n",
    "os.environ[\"DISABLE_TQDM\"] = \"True\""
   ]
  },
  {
   "cell_type": "markdown",
   "id": "5d67c1697ae837a4",
   "metadata": {},
   "source": [
    "# Computing multiple spectrograms with the Core API [^download]\n",
    "\n",
    "[^download]: This notebook can be downloaded as **{nb-download}`example_multiple_spectrograms_core.ipynb`**."
   ]
  },
  {
   "cell_type": "markdown",
   "id": "66731c408df9271c",
   "metadata": {},
   "source": [
    "Create an **OSEkit** `AudioDataset` from the files on disk, by directly specifying the time-related requirements in the constructor.\n",
    "\n",
    "An `Instrument` can be provided to the `AudioDataset` for the WAV data to be converted in pressure units. This will lead the resulting spectra to be expressed in dB SPL (rather than in dB FS):\n",
    "\n",
    "We will only use the **folder** in which the files are located: we don't have to dig up to the file level."
   ]
  },
  {
   "cell_type": "code",
   "execution_count": null,
   "id": "2f36ef512e49e57b",
   "metadata": {},
   "outputs": [],
   "source": [
    "from pathlib import Path\n",
    "\n",
    "audio_folder = Path(r\"_static/sample_audio\")\n",
    "\n",
    "from osekit.core_api.audio_dataset import AudioDataset\n",
    "from osekit.core_api.instrument import Instrument\n",
    "from osekit.utils.audio_utils import Normalization\n",
    "from pandas import Timestamp, Timedelta\n",
    "\n",
    "audio_dataset = AudioDataset.from_folder(\n",
    "    folder=audio_folder,\n",
    "    strptime_format=\"%y%m%d_%H%M%S\",\n",
    "    begin=Timestamp(\"2022-09-25 22:35:15\"),\n",
    "    end=Timestamp(\"2022-09-25 22:36:25\"),\n",
    "    data_duration=Timedelta(seconds=5),\n",
    "    instrument=Instrument(end_to_end_db=150.0),\n",
    "    sample_rate=24_000,\n",
    "    normalization=Normalization.DC_REJECT,\n",
    ")"
   ]
  },
  {
   "cell_type": "markdown",
   "id": "ae4f34cb1e7707e5",
   "metadata": {},
   "source": "The `AudioDataset` object contains all the to-be-exported `AudioData`:"
  },
  {
   "cell_type": "code",
   "execution_count": null,
   "id": "7b81ebdba07f5ccf",
   "metadata": {},
   "outputs": [],
   "source": [
    "print(f\"{' AUDIO DATASET ':#^60}\")\n",
    "print(f\"{'Begin:':<30}{str(audio_dataset.begin):>30}\")\n",
    "print(f\"{'End:':<30}{str(audio_dataset.end):>30}\")\n",
    "print(f\"{'Sample rate:':<30}{str(audio_dataset.sample_rate):>30}\")\n",
    "print(f\"{'Nb of audio data:':<30}{str(len(audio_dataset.data)):>30}\")"
   ]
  },
  {
   "cell_type": "markdown",
   "id": "eeafddd2f84557ac",
   "metadata": {},
   "source": [
    "We also wanted to **skip** the `AudioData` that are **in the gap between recordings**.\n",
    "Such `AudioData` have **no linked file**, thus their `is_empty` property should be `True`."
   ]
  },
  {
   "cell_type": "code",
   "execution_count": null,
   "id": "4387f29b15bd03cb",
   "metadata": {},
   "outputs": [],
   "source": [
    "print(f\"{' BEFORE FILTERING ':#^60}\")\n",
    "print(\n",
    "    f\"{'Nb of Empty data:':<30}{str(len([ad for ad in audio_dataset.data if ad.is_empty])):>30}\\n\"\n",
    ")\n",
    "\n",
    "# Remove the empty data by using the default AudioDataset constructor:\n",
    "audio_dataset = AudioDataset([ad for ad in audio_dataset.data if not ad.is_empty])"
   ]
  },
  {
   "cell_type": "markdown",
   "id": "4e63d5b94f93c8c5",
   "metadata": {},
   "source": "The `AudioData` should now only contain **non-empty `AudioData`**:"
  },
  {
   "cell_type": "code",
   "execution_count": null,
   "id": "56d4365be918a060",
   "metadata": {},
   "outputs": [],
   "source": [
    "print(f\"{' AFTER FILTERING ':#^60}\")\n",
    "print(f\"{'Nb of audio data:':<30}{str(len(audio_dataset.data)):>30}\")\n",
    "print(\n",
    "    f\"{'Nb of Empty data:':<30}{str(len([ad for ad in audio_dataset.data if ad.is_empty])):>30}\\n\"\n",
    ")"
   ]
  },
  {
   "cell_type": "markdown",
   "id": "ff463689d799a823",
   "metadata": {},
   "source": "Instantiate a `scipy.signal.ShortTimeFFT` FFT object with the required parameters:"
  },
  {
   "cell_type": "code",
   "execution_count": null,
   "id": "a5c030c6cf06128",
   "metadata": {
    "tags": []
   },
   "outputs": [],
   "source": [
    "from scipy.signal import ShortTimeFFT\n",
    "from scipy.signal.windows import hamming\n",
    "\n",
    "sft = ShortTimeFFT(\n",
    "    win=hamming(1024),\n",
    "    hop=128,\n",
    "    fs=audio_dataset.sample_rate,\n",
    ")"
   ]
  },
  {
   "cell_type": "markdown",
   "id": "946ef52ed70d0642",
   "metadata": {},
   "source": "Create an **OSEkit** `SpectroDataset` from the `AudioDataset` and the `ShortTimeFFT` objects:"
  },
  {
   "cell_type": "code",
   "execution_count": null,
   "id": "7397ac200756cd82",
   "metadata": {},
   "outputs": [],
   "source": [
    "from osekit.core_api.spectro_dataset import SpectroDataset\n",
    "\n",
    "spectro_dataset = SpectroDataset.from_audio_dataset(\n",
    "    audio_dataset=audio_dataset,\n",
    "    fft=sft,\n",
    "    v_lim=(0.0, 150.0),  # Boundaries of the spectrograms\n",
    "    colormap=\"viridis\",  # Default value\n",
    ")"
   ]
  },
  {
   "cell_type": "markdown",
   "id": "b3fd3bd205bc369c",
   "metadata": {},
   "source": "We can plot a `SpectroData` object if we want to glance at the output before computing all spectrograms:"
  },
  {
   "cell_type": "code",
   "execution_count": null,
   "id": "e42dfe3608c8b59e",
   "metadata": {},
   "outputs": [],
   "source": [
    "import matplotlib.pyplot as plt\n",
    "\n",
    "spectro_dataset.data[1].plot()\n",
    "plt.show()"
   ]
  },
  {
   "cell_type": "markdown",
   "id": "cb64ef0bb8d69218",
   "metadata": {},
   "source": "We are now ready to export the spectrograms and matrices:"
  },
  {
   "cell_type": "code",
   "execution_count": null,
   "id": "c28a40fe9093dfeb",
   "metadata": {
    "tags": [
     "skip-execution"
    ]
   },
   "outputs": [],
   "source": [
    "# Export all spectrograms\n",
    "spectro_dataset.save_spectrogram(folder=audio_folder / \"spectrograms\")\n",
    "\n",
    "# Export all NPZ matrices\n",
    "spectro_dataset.write(folder=audio_folder / \"matrices\")"
   ]
  },
  {
   "cell_type": "markdown",
   "id": "b6d50da7dfb1dffc",
   "metadata": {},
   "source": [
    "## PSD estimates\n",
    "\n",
    "We can also export Power Spectral Density estimates using the welch method:"
   ]
  },
  {
   "cell_type": "code",
   "execution_count": null,
   "id": "4829920bbacee0b2",
   "metadata": {
    "tags": [
     "skip-execution"
    ]
   },
   "outputs": [],
   "source": [
    "spectro_dataset.write_welch(folder=audio_folder / \"welch\")"
   ]
  }
 ],
 "metadata": {
  "kernelspec": {
   "display_name": "Python 3",
   "language": "python",
   "name": "python3"
  },
  "language_info": {
   "codemirror_mode": {
    "name": "ipython",
    "version": 2
   },
   "file_extension": ".py",
   "mimetype": "text/x-python",
   "name": "python",
   "nbconvert_exporter": "python",
   "pygments_lexer": "ipython2",
   "version": "2.7.6"
  }
 },
 "nbformat": 4,
 "nbformat_minor": 5
}
