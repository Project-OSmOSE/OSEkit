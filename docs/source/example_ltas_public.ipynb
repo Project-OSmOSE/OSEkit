{
 "cells": [
  {
   "cell_type": "code",
   "execution_count": null,
   "id": "dc7ebca70b3b5da",
   "metadata": {
    "tags": [
     "remove-cell"
    ]
   },
   "outputs": [],
   "source": [
    "# Executing this cell will disable all TQDM outputs in stdout.\n",
    "import os\n",
    "\n",
    "os.environ[\"DISABLE_TQDM\"] = \"True\""
   ]
  },
  {
   "cell_type": "markdown",
   "id": "5d67c1697ae837a4",
   "metadata": {},
   "source": [
    "# Computing a LTAS with the Public API [^download]\n",
    "\n",
    "[^download]: This notebook can be downloaded as **{nb-download}`example_ltas_public.ipynb`**."
   ]
  },
  {
   "cell_type": "markdown",
   "id": "66731c408df9271c",
   "metadata": {},
   "source": [
    "As always in the **Public API**, the first step is to **build the dataset**.\n",
    "\n",
    "An `Instrument` can be provided to the `Dataset` for the WAV data to be converted in pressure units. This will lead the resulting spectra to be expressed in dB SPL (rather than in dB FS):"
   ]
  },
  {
   "cell_type": "code",
   "execution_count": null,
   "id": "bb002105fc9632e8",
   "metadata": {
    "tags": []
   },
   "outputs": [],
   "source": [
    "from pathlib import Path\n",
    "\n",
    "audio_folder = Path(r\"_static/sample_audio\")\n",
    "\n",
    "from osekit.public_api.dataset import Dataset\n",
    "from osekit.core_api.instrument import Instrument\n",
    "\n",
    "dataset = Dataset(\n",
    "    folder=audio_folder,\n",
    "    strptime_format=\"%y%m%d_%H%M%S\",\n",
    "    instrument=Instrument(end_to_end_db=150.0),\n",
    ")\n",
    "\n",
    "dataset.build()"
   ]
  },
  {
   "cell_type": "markdown",
   "id": "d11d0e55baa8e44",
   "metadata": {},
   "source": "The **Public API** `Dataset` is now analyzed and organized:"
  },
  {
   "cell_type": "code",
   "execution_count": null,
   "id": "a29c761d4bbd5303",
   "metadata": {},
   "outputs": [],
   "source": [
    "print(f\"{' DATASET ':#^60}\")\n",
    "print(f\"{'Begin:':<30}{str(dataset.origin_dataset.begin):>30}\")\n",
    "print(f\"{'End:':<30}{str(dataset.origin_dataset.end):>30}\")\n",
    "print(f\"{'Sample rate:':<30}{str(dataset.origin_dataset.sample_rate):>30}\\n\")\n",
    "\n",
    "print(f\"{' ORIGINAL FILES ':#^60}\")\n",
    "import pandas as pd\n",
    "\n",
    "pd.DataFrame(\n",
    "    [\n",
    "        {\n",
    "            \"Name\": f.path.name,\n",
    "            \"Begin\": f.begin,\n",
    "            \"End\": f.end,\n",
    "            \"Sample Rate\": f.sample_rate,\n",
    "        }\n",
    "        for f in dataset.origin_files\n",
    "    ],\n",
    ").set_index(\"Name\")"
   ]
  },
  {
   "cell_type": "markdown",
   "id": "9e669f8e6e50909d",
   "metadata": {},
   "source": "Since we will run a spectral analysis, we need to define the FFT parameters:"
  },
  {
   "cell_type": "code",
   "execution_count": null,
   "id": "f6f26555c4e80ab3",
   "metadata": {},
   "outputs": [],
   "source": [
    "from scipy.signal import ShortTimeFFT\n",
    "from scipy.signal.windows import hamming\n",
    "\n",
    "sample_rate = 24_000\n",
    "\n",
    "sft = ShortTimeFFT(\n",
    "    win=hamming(1024),\n",
    "    hop=128,  # This will be forced to len(win) if we compute a LTAS\n",
    "    fs=sample_rate,\n",
    ")"
   ]
  },
  {
   "cell_type": "markdown",
   "id": "bdcd50704ad9f826",
   "metadata": {},
   "source": "To **run analyses** in the **Public API**, use the `Analysis` class:"
  },
  {
   "cell_type": "code",
   "execution_count": null,
   "id": "8cc85bb1fe97f166",
   "metadata": {},
   "outputs": [],
   "source": [
    "from osekit.public_api.analysis import Analysis, AnalysisType\n",
    "\n",
    "analysis = Analysis(\n",
    "    analysis_type=AnalysisType.SPECTROGRAM\n",
    "    | AnalysisType.MATRIX,  # we want to export both the spectrogram and the sx matrix\n",
    "    nb_ltas_time_bins=3000,  # This will turn the regular spectrum computation in a LTAS\n",
    "    sample_rate=sample_rate,\n",
    "    fft=sft,\n",
    "    v_lim=(0.0, 150.0),  # Boundaries of the spectrograms\n",
    "    colormap=\"viridis\",  # Default value\n",
    "    name=\"LTAS\",\n",
    ")"
   ]
  },
  {
   "cell_type": "markdown",
   "id": "b2950dc5d76d2bbe",
   "metadata": {},
   "source": "Running the analysis will compute the LTAS and save the output files to disk."
  },
  {
   "cell_type": "code",
   "execution_count": null,
   "id": "9b65cfdc720d50e6",
   "metadata": {
    "tags": []
   },
   "outputs": [],
   "source": [
    "dataset.run_analysis(analysis=analysis)"
   ]
  },
  {
   "cell_type": "markdown",
   "id": "8271f118422f38dc",
   "metadata": {},
   "source": "As for regular spectrum analyses, the output LTAS is stored in a `SpectroDataset` named after `analysis.name`:"
  },
  {
   "cell_type": "code",
   "execution_count": null,
   "id": "3cb0adbb96d2251a",
   "metadata": {},
   "outputs": [],
   "source": [
    "pd.DataFrame(\n",
    "    [\n",
    "        {\n",
    "            \"Exported file\": list(sd.files)[0].path.name,\n",
    "            \"Begin\": sd.begin,\n",
    "            \"End\": sd.end,\n",
    "            \"Sample Rate\": sd.fft.fs,\n",
    "        }\n",
    "        for sd in dataset.get_dataset(analysis.name).data\n",
    "    ],\n",
    ").set_index(\"Exported file\")"
   ]
  },
  {
   "cell_type": "code",
   "execution_count": null,
   "id": "e05d653bc1e8bfe2",
   "metadata": {},
   "outputs": [],
   "source": [
    "# Reset the dataset to get all files back to place.\n",
    "\n",
    "dataset.reset()"
   ]
  }
 ],
 "metadata": {
  "kernelspec": {
   "display_name": "Python 3",
   "language": "python",
   "name": "python3"
  },
  "language_info": {
   "codemirror_mode": {
    "name": "ipython",
    "version": 2
   },
   "file_extension": ".py",
   "mimetype": "text/x-python",
   "name": "python",
   "nbconvert_exporter": "python",
   "pygments_lexer": "ipython2",
   "version": "2.7.6"
  }
 },
 "nbformat": 4,
 "nbformat_minor": 5
}
