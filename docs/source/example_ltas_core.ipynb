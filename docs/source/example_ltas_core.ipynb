{
 "cells": [
  {
   "cell_type": "code",
   "execution_count": null,
   "id": "dc7ebca70b3b5da",
   "metadata": {
    "tags": [
     "remove-cell"
    ]
   },
   "outputs": [],
   "source": [
    "# Executing this cell will disable all TQDM outputs in stdout.\n",
    "import os\n",
    "\n",
    "os.environ[\"DISABLE_TQDM\"] = \"True\""
   ]
  },
  {
   "cell_type": "markdown",
   "id": "5d67c1697ae837a4",
   "metadata": {},
   "source": [
    "# Computing a LTAS with the Core API [^download]\n",
    "\n",
    "[^download]: This notebook can be downloaded as **{nb-download}`example_ltas_core.ipynb`**."
   ]
  },
  {
   "cell_type": "markdown",
   "id": "66731c408df9271c",
   "metadata": {},
   "source": [
    "Create an **OSEkit** `AudioData` from the files on disk.\n",
    "\n",
    "There are multiple ways to achieve that, but the most straightforward is to use an ``AudioDataset`` that covers the whole time span of the files by **leaving ``begin``, ``end`` and  ``data_duration`` at the ``None`` default value**.\n",
    "\n",
    "An `Instrument` can be provided to the `AudioDataset` for the WAV data to be converted in pressure units. This will lead the resulting spectra to be expressed in dB SPL (rather than in dB FS):"
   ]
  },
  {
   "cell_type": "code",
   "execution_count": null,
   "id": "2f36ef512e49e57b",
   "metadata": {},
   "outputs": [],
   "source": [
    "from pathlib import Path\n",
    "\n",
    "audio_folder = Path(r\"_static/sample_audio\")\n",
    "\n",
    "from osekit.core_api.audio_dataset import AudioDataset\n",
    "from osekit.core_api.instrument import Instrument\n",
    "\n",
    "audio_data = AudioDataset.from_folder(\n",
    "    folder=audio_folder,\n",
    "    strptime_format=\"%y%m%d_%H%M%S\",\n",
    "    instrument=Instrument(end_to_end_db=150.0),\n",
    ").data[0]\n",
    "\n",
    "# Resampling at 24 kHz\n",
    "audio_data.sample_rate = 24_000\n",
    "\n",
    "# Removing the DC component\n",
    "audio_data.normalization = \"dc_reject\""
   ]
  },
  {
   "cell_type": "markdown",
   "id": "ae4f34cb1e7707e5",
   "metadata": {},
   "source": "The `AudioData` object covers the whole time span of the audio files:"
  },
  {
   "cell_type": "code",
   "execution_count": null,
   "id": "7b81ebdba07f5ccf",
   "metadata": {},
   "outputs": [],
   "source": [
    "print(f\"{' AUDIO DATASET ':#^60}\")\n",
    "print(f\"{'Begin:':<30}{str(audio_data.begin):>30}\")\n",
    "print(f\"{'End:':<30}{str(audio_data.end):>30}\")\n",
    "print(f\"{'Sample rate:':<30}{str(audio_data.sample_rate):>30}\")"
   ]
  },
  {
   "cell_type": "markdown",
   "id": "ff463689d799a823",
   "metadata": {},
   "source": "Instantiate a `scipy.signal.ShortTimeFFT` FFT object with the required parameters:"
  },
  {
   "cell_type": "code",
   "execution_count": null,
   "id": "a5c030c6cf06128",
   "metadata": {
    "tags": []
   },
   "outputs": [],
   "source": [
    "from scipy.signal import ShortTimeFFT\n",
    "from scipy.signal.windows import hamming\n",
    "\n",
    "sft = ShortTimeFFT(\n",
    "    win=hamming(1024),\n",
    "    hop=128,  # This will be forced to len(win) if we compute a LTAS\n",
    "    fs=audio_data.sample_rate,\n",
    ")"
   ]
  },
  {
   "cell_type": "markdown",
   "id": "946ef52ed70d0642",
   "metadata": {},
   "source": "Create an **OSEkit** `SpectroDataset` from the `AudioDataset` and the `ShortTimeFFT` objects:"
  },
  {
   "cell_type": "code",
   "execution_count": null,
   "id": "7397ac200756cd82",
   "metadata": {},
   "outputs": [],
   "source": [
    "from osekit.core_api.spectro_data import SpectroData\n",
    "\n",
    "spectro_data = SpectroData.from_audio_data(\n",
    "    data=audio_data,\n",
    "    fft=sft,\n",
    "    v_lim=(0.0, 150.0),  # Boundaries of the spectrogram\n",
    "    colormap=\"viridis\",  # Default value\n",
    ")"
   ]
  },
  {
   "cell_type": "markdown",
   "id": "7bacba4e52a531c9",
   "metadata": {},
   "source": "Checking the required RAM to store the spectrum matrix can give a hint on when to switch to a LTAS computation:"
  },
  {
   "cell_type": "code",
   "execution_count": null,
   "id": "cc7a44af02bd9",
   "metadata": {},
   "outputs": [],
   "source": [
    "print(f\"{' SPECTRO DATA ':#^60}\")\n",
    "print(f\"{'Matrix shape:':<30}{str(spectro_data.shape):>30}\")\n",
    "print(f\"{'Matrix weight:':<30}{f'{str(round(spectro_data.nb_bytes / 1e6, 2))} MB':>30}\")"
   ]
  },
  {
   "cell_type": "markdown",
   "id": "b3fd3bd205bc369c",
   "metadata": {},
   "source": [
    "As displayed, the SX matrix has 22507 time bins.\n",
    "Let's turn the `SpectroData` object in a `LTASData`, where we will average time bins to force a given x-axis size (`3000` in this example):"
   ]
  },
  {
   "cell_type": "code",
   "execution_count": null,
   "id": "e42dfe3608c8b59e",
   "metadata": {},
   "outputs": [],
   "source": [
    "from osekit.core_api.ltas_data import LTASData\n",
    "\n",
    "ltas_data = LTASData.from_spectro_data(\n",
    "    spectro_data=spectro_data,\n",
    "    nb_time_bins=3000,\n",
    ")"
   ]
  },
  {
   "cell_type": "markdown",
   "id": "cb64ef0bb8d69218",
   "metadata": {},
   "source": "The size and weight reduction can be checked:"
  },
  {
   "cell_type": "code",
   "execution_count": null,
   "id": "db58ccf8491d629c",
   "metadata": {},
   "outputs": [],
   "source": [
    "print(f\"{' LTAS DATA ':#^60}\")\n",
    "print(f\"{'Matrix shape:':<30}{str(ltas_data.shape):>30}\")\n",
    "print(f\"{'Matrix weight:':<30}{f'{str(round(ltas_data.nb_bytes / 1e6, 2))} MB':>30}\")"
   ]
  },
  {
   "cell_type": "markdown",
   "id": "af33a01f9d4f6d87",
   "metadata": {},
   "source": "Now is time to compute the SX values of the LTAS (it can be stored in a variable so that it won't be computed again when plotting or saving them):"
  },
  {
   "cell_type": "code",
   "execution_count": null,
   "id": "cf505430b91739c1",
   "metadata": {},
   "outputs": [],
   "source": [
    "ltas_sx = ltas_data.get_value()"
   ]
  },
  {
   "cell_type": "markdown",
   "id": "9e9d4439c0b39434",
   "metadata": {},
   "source": "We can now plot the LTAS:"
  },
  {
   "cell_type": "code",
   "execution_count": null,
   "id": "74446b56aec2e575",
   "metadata": {},
   "outputs": [],
   "source": [
    "import matplotlib.pyplot as plt\n",
    "\n",
    "ltas_data.plot(sx=ltas_sx)\n",
    "plt.show()"
   ]
  },
  {
   "cell_type": "markdown",
   "id": "c7a7f4e5e81e1286",
   "metadata": {},
   "source": [
    "The time period in the middle where no audio has been recorded is clearly visible.\n",
    "Both the spectrogram and the sx matrix can be saved to disk:"
   ]
  },
  {
   "cell_type": "code",
   "execution_count": null,
   "id": "c28a40fe9093dfeb",
   "metadata": {
    "tags": [
     "skip-execution"
    ]
   },
   "outputs": [],
   "source": [
    "# Export all spectrograms\n",
    "ltas_data.save_spectrogram(folder=audio_folder / \"spectrogram\", sx=ltas_sx)\n",
    "\n",
    "# Export all NPZ matrices\n",
    "ltas_data.write(folder=audio_folder / \"matrix\", sx=ltas_sx)"
   ]
  }
 ],
 "metadata": {
  "kernelspec": {
   "display_name": "Python 3",
   "language": "python",
   "name": "python3"
  },
  "language_info": {
   "codemirror_mode": {
    "name": "ipython",
    "version": 2
   },
   "file_extension": ".py",
   "mimetype": "text/x-python",
   "name": "python",
   "nbconvert_exporter": "python",
   "pygments_lexer": "ipython2",
   "version": "2.7.6"
  }
 },
 "nbformat": 4,
 "nbformat_minor": 5
}
