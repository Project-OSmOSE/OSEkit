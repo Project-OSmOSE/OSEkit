{
 "cells": [
  {
   "cell_type": "markdown",
   "id": "5d67c1697ae837a4",
   "metadata": {},
   "source": [
    "# Reshaping one file [^download]\n",
    "\n",
    "[^download]: This notebook can be downloaded as **{nb-download}`example_reshaping_one_file.ipynb`**.\n",
    "\n",
    "This very simple example will only be covered with the **Core API**."
   ]
  },
  {
   "cell_type": "markdown",
   "id": "3ddf15a47797be2e",
   "metadata": {},
   "source": [
    "First, create an **OSEkit** `AudioFile` from the audio file on disk.\n",
    "In this example, we use the file name to parse the begin timestamp.\n",
    "It is also possible to specify a begin timestamp by providing a `pandas.Timestamp` to the `begin` parameter of the constructor."
   ]
  },
  {
   "cell_type": "code",
   "id": "initial_id",
   "metadata": {
    "collapsed": true
   },
   "source": [
    "from pathlib import Path\n",
    "from osekit.core_api.audio_file import AudioFile\n",
    "\n",
    "audio_file = AudioFile(\n",
    "    path=Path(r\"_static/sample_audio/sample_220925_223450.wav\"),\n",
    "    strptime_format=\"%y%m%d_%H%M%S\",\n",
    ")"
   ],
   "outputs": [],
   "execution_count": null
  },
  {
   "cell_type": "markdown",
   "id": "a3e00607af01f18f",
   "metadata": {},
   "source": "The `AudioFile` object has informations about the audio file:"
  },
  {
   "cell_type": "code",
   "id": "8df490fff812332",
   "metadata": {},
   "source": [
    "print(f\"{' FILE ':#^60}\")\n",
    "print(f\"{'Begin:':<30}{str(audio_file.begin):>30}\")\n",
    "print(f\"{'End:':<30}{str(audio_file.end):>30}\")\n",
    "print(f\"{'Sample rate:':<30}{str(audio_file.sample_rate):>30}\")"
   ],
   "outputs": [],
   "execution_count": null
  },
  {
   "cell_type": "markdown",
   "id": "e0da828bafcfce55",
   "metadata": {},
   "source": "Create an **OSEkit** `AudioData`, which represents a **part of data distributed over one or more file(s)**:"
  },
  {
   "cell_type": "code",
   "id": "63edf1d81811bf4b",
   "metadata": {},
   "source": [
    "from osekit.core_api.audio_data import AudioData\n",
    "from pandas import Timestamp\n",
    "\n",
    "audio_data = AudioData.from_files(\n",
    "    files=[audio_file],\n",
    "    begin=Timestamp(\"2022-09-25 22:34:52\"),\n",
    "    end=Timestamp(\"2022-09-25 22:34:56\"),\n",
    ")"
   ],
   "outputs": [],
   "execution_count": null
  },
  {
   "cell_type": "markdown",
   "id": "8ae4db7363a92148",
   "metadata": {},
   "source": "Simply resample and normalize the `AudioData` by setting the corresponding properties:"
  },
  {
   "cell_type": "code",
   "id": "8c672c04078d395e",
   "metadata": {},
   "source": [
    "audio_data.sample_rate = 24_000\n",
    "audio_data.normalization = \"dc_reject\""
   ],
   "outputs": [],
   "execution_count": null
  },
  {
   "cell_type": "markdown",
   "id": "d5d28a92c4002bfb",
   "metadata": {},
   "source": "The `AudioData` only contains **10 seconds of audio sampled at 48 kHz**:"
  },
  {
   "cell_type": "code",
   "id": "9b3faf84f6e45cf2",
   "metadata": {},
   "source": [
    "print(f\"{' AUDIO DATA ':#^60}\")\n",
    "print(f\"{'Begin:':<30}{str(audio_data.begin):>30}\")\n",
    "print(f\"{'End:':<30}{str(audio_data.end):>30}\")\n",
    "print(f\"{'Sample rate:':<30}{str(audio_data.sample_rate):>30}\")"
   ],
   "outputs": [],
   "execution_count": null
  },
  {
   "cell_type": "markdown",
   "id": "93eae4edd8bb8bb5",
   "metadata": {},
   "source": "The **WAV data** can be read (it will be resampled at readtime):"
  },
  {
   "cell_type": "code",
   "id": "ddc9e9c82bca1c41",
   "metadata": {},
   "source": [
    "wav_data = audio_data.get_value()\n",
    "\n",
    "print(\n",
    "    f\"WAV data should be {int(audio_data.duration.total_seconds())}*{audio_data.sample_rate:_} samples long: {len(wav_data):_} == {int(audio_data.duration.total_seconds()) * audio_data.sample_rate:_} samples\"\n",
    ")"
   ],
   "outputs": [],
   "execution_count": null
  },
  {
   "cell_type": "markdown",
   "id": "60f887eb643ce9c9",
   "metadata": {},
   "source": "And/or written to disk:"
  },
  {
   "cell_type": "code",
   "id": "2d35931b8c9def2e",
   "metadata": {
    "tags": [
     "skip-execution"
    ]
   },
   "source": [
    "audio_data.write(Path(r\"../docs/source/_static/sample_audio/exported_files/\"))"
   ],
   "outputs": [],
   "execution_count": null
  }
 ],
 "metadata": {
  "kernelspec": {
   "display_name": "Python 3",
   "language": "python",
   "name": "python3"
  },
  "language_info": {
   "codemirror_mode": {
    "name": "ipython",
    "version": 2
   },
   "file_extension": ".py",
   "mimetype": "text/x-python",
   "name": "python",
   "nbconvert_exporter": "python",
   "pygments_lexer": "ipython2",
   "version": "2.7.6"
  }
 },
 "nbformat": 4,
 "nbformat_minor": 5
}
